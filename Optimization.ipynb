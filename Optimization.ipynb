{
 "cells": [
  {
   "cell_type": "markdown",
   "metadata": {},
   "source": [
    "# Shobhit Bhatnagar, Roll No. 14UEC096"
   ]
  },
  {
   "cell_type": "markdown",
   "metadata": {},
   "source": [
    "## Simplex Algorithm Implementation"
   ]
  },
  {
   "cell_type": "code",
   "execution_count": 1,
   "metadata": {
    "collapsed": true
   },
   "outputs": [],
   "source": [
    "import numpy as np\n",
    "\n",
    "def simplex(of,basis,tableau):\n",
    "    # Get the number of rows and columns in the tableau:\n",
    "    n_rows = tableau.shape[0]\n",
    "    n_cols = tableau.shape[1]\n",
    "    # Start the simplex algorithm:\n",
    "    # Compute zj-cj. If zj - cj >= 0 for all columns then current \n",
    "    # solution is optimal solution.\n",
    "    check = np.sum(np.reshape(of[list(basis)],(n_rows,1)) * \n",
    "        tableau[:,0:n_cols-1],axis=0) - of\n",
    "    count = 0\n",
    "    while ~np.all(check >= 0):\n",
    "        # Determine the pivot column:\n",
    "        # The pivot column is the column corresponding to \n",
    "        # minimum zj-cj.\n",
    "        pivot_col = np.argmin(check)\n",
    "        # Determine the positive elements in the pivot column.\n",
    "        # If there are no positive elements in the pivot column  \n",
    "        # then the optimal solution is unbounded.\n",
    "        positive_rows = np.where(tableau[:,pivot_col] > 0)[0]\n",
    "        if positive_rows.size == 0:\n",
    "            print('Unbounded Solution!')\n",
    "            break\n",
    "        # Determine the pivot row:\n",
    "        divide=(tableau[positive_rows,n_cols-1]\n",
    "            /tableau[positive_rows,pivot_col])\n",
    "        pivot_row = positive_rows[np.where(divide \n",
    "            == divide.min())[0][-1]]\n",
    "        # Update the basis:\n",
    "        basis[pivot_row] = pivot_col\n",
    "        # Perform gaussian elimination to make pivot element one and\n",
    "        # elements above and below it zero:\n",
    "        tableau[pivot_row,:]=(tableau[pivot_row,:]\n",
    "            /tableau[pivot_row,pivot_col])\n",
    "        for row in range(n_rows):\n",
    "            if row != pivot_row:\n",
    "                tableau[row,:] = (tableau[row,:] \n",
    "                    - tableau[row,pivot_col]*tableau[pivot_row,:])\n",
    "        # Determine zj-cj\n",
    "        check = np.sum(np.reshape(of[list(basis)],(n_rows,1)) * \n",
    "            tableau[:,0:n_cols-1],axis=0) - of\n",
    "        count += 1\n",
    "        print('Step %d' % count)\n",
    "        print(tableau)\n",
    "    return basis,tableau\n",
    "\n",
    "def get_solution(of,basis,tableau):\n",
    "    # Get the no of columns in the tableau:\n",
    "    n_cols = tableau.shape[1]\n",
    "    # Get the optimal solution:\n",
    "    solution = np.zeros(of.size)\n",
    "    solution[list(basis)] = tableau[:,n_cols-1]\n",
    "    # Determine the optimal value:\n",
    "    value = np.sum(of[list(basis)] * tableau[:,n_cols-1])\n",
    "    return solution,value\n"
   ]
  },
  {
   "cell_type": "markdown",
   "metadata": {},
   "source": [
    "## Question 1"
   ]
  },
  {
   "cell_type": "markdown",
   "metadata": {},
   "source": [
    "Solve the following L.P.P. by Simplex Method.\n",
    "\n",
    "Maximize $z=4x_1+5x_2+9x_3+11x_4$ subject to\n",
    "$$\n",
    "\\begin{aligned}\n",
    "x_1+x_2+x_3+x_4 &\\leq 15,  \\\\\n",
    "7x_1 + 5x_2+3x_3+2x_4 &\\leq 120, \\\\\n",
    "3x_1+5x_2+10x_3+15x_4 &\\leq 100, \\\\\n",
    "x_1,x_2,x_3,x_4 &\\geq 0\n",
    "\\end{aligned}\n",
    "$$"
   ]
  },
  {
   "cell_type": "markdown",
   "metadata": {},
   "source": [
    "### Solution\n",
    "\n",
    "We can convert the problem into the standard form by adding slack variables $x_5,x_6$ and $x_7$. \n",
    "\n",
    "Maximize $z = 4x_1+5x_2+9x_3+11x_4+0x_5+0x_6+0x_7$ subject to\n",
    "$$\\begin{aligned}\n",
    "x_1+x_2+x_3+x_4+x_5 &= 15, \\\\\n",
    "7x_1+5x_2+3x_3+2x_4 +x_6 &= 120, \\\\\n",
    "3x_1+5x_2+10x_3+15x_4+x_7 &= 100, \\\\\n",
    "x_1,x_2,x_3,x_4,x_5,x_6,x_7 &\\geq 0\n",
    "\\end{aligned}$$\n",
    "\n",
    "We are now ready to solve the problem."
   ]
  },
  {
   "cell_type": "code",
   "execution_count": 2,
   "metadata": {
    "collapsed": false
   },
   "outputs": [
    {
     "name": "stdout",
     "output_type": "stream",
     "text": [
      "Step 1\n",
      "[[  8.00000000e-01   6.66666667e-01   3.33333333e-01   0.00000000e+00\n",
      "    1.00000000e+00   0.00000000e+00  -6.66666667e-02   8.33333333e+00]\n",
      " [  6.60000000e+00   4.33333333e+00   1.66666667e+00   0.00000000e+00\n",
      "    0.00000000e+00   1.00000000e+00  -1.33333333e-01   1.06666667e+02]\n",
      " [  2.00000000e-01   3.33333333e-01   6.66666667e-01   1.00000000e+00\n",
      "    0.00000000e+00   0.00000000e+00   6.66666667e-02   6.66666667e+00]]\n",
      "Step 2\n",
      "[[  1.           0.83333333   0.41666667   0.           1.25         0.\n",
      "   -0.08333333  10.41666667]\n",
      " [  0.          -1.16666667  -1.08333333   0.          -8.25         1.\n",
      "    0.41666667  37.91666667]\n",
      " [  0.           0.16666667   0.58333333   1.          -0.25         0.\n",
      "    0.08333333   4.58333333]]\n",
      "Step 3\n",
      "[[  1.           0.71428571   0.          -0.71428571   1.42857143   0.\n",
      "   -0.14285714   7.14285714]\n",
      " [  0.          -0.85714286   0.           1.85714286  -8.71428571   1.\n",
      "    0.57142857  46.42857143]\n",
      " [  0.           0.28571429   1.           1.71428571  -0.42857143   0.\n",
      "    0.14285714   7.85714286]]\n",
      "The final basis is:\n",
      "[0 5 2]\n",
      "Solution\n",
      "x1=7.14, x2=0.00, x3=7.86, x4=0.00, z=99.2857\n"
     ]
    }
   ],
   "source": [
    "def question1():\n",
    "    # Define the tableau:\n",
    "    tableau = np.array([\n",
    "        [1.0,1,1,1,1,0,0,15],\n",
    "        [7,5,3,2,0,1,0,120],\n",
    "        [3,5,10,15,0,0,1,100]\n",
    "    ])\n",
    "    # Define the objective function and the initial basis:\n",
    "    of = np.array([4,5,9,11,0,0,0])\n",
    "    basis = np.array([4,5,6])\n",
    "    # Run the simplex algorithm:\n",
    "    basis,tableau = simplex(of,basis,tableau)\n",
    "    # Get the optimal soultion:\n",
    "    optimal_solution,optimal_value = get_solution(of,basis,tableau)\n",
    "    # Print the final tableau:\n",
    "    print('The final basis is:')\n",
    "    print(basis)\n",
    "    # Print the results:\n",
    "    print('Solution\\nx1=%0.2f, x2=%0.2f, x3=%0.2f, x4=%0.2f, z=%0.4f' \n",
    "        % (optimal_solution[0],optimal_solution[1],optimal_solution[2],\n",
    "            optimal_solution[3],optimal_value))\n",
    "question1()"
   ]
  },
  {
   "cell_type": "markdown",
   "metadata": {},
   "source": [
    "The optimal solution is $x_1=7.1428,x_2=0,x_3=7.8571,x_4=0$ and the optimum value is $z=99.2857$."
   ]
  },
  {
   "cell_type": "markdown",
   "metadata": {
    "collapsed": true
   },
   "source": [
    "## Question 2"
   ]
  },
  {
   "cell_type": "markdown",
   "metadata": {
    "collapsed": true
   },
   "source": [
    "Solve the following L.P.P. by Big M method.\n",
    "\n",
    "Maximize $z = 2x_1+4x_2+x_3$ subject to\n",
    "$$\\begin{aligned}\n",
    "x_1 + 2x_2 -x_3 &\\leq 5, \\\\\n",
    "2x_1 -x_2 +2x_3 &= 2, \\\\\n",
    "-x_1 +2x_2+2x_3 &\\geq 1, \\\\\n",
    "x_1,x_2,x_3 &\\geq 0\n",
    "\\end{aligned}$$"
   ]
  },
  {
   "cell_type": "markdown",
   "metadata": {},
   "source": [
    "### Solution\n",
    "\n",
    "To convert the problem into the standard form we introduce a slack variable $x_4$, a surplus variable $x_6$ and two artificial variables $x_5$ and $x_7$. \n",
    "\n",
    "Maximize $z = 2x_1+4x_2+x_3 - M x_5-Mx_7$ subject to\n",
    "$$\\begin{aligned}\n",
    "x_1+2x_2-x_3+x_4 &= 5, \\\\\n",
    "2x_2-x_2+2x_3 +x_5 &= 2, \\\\\n",
    "-x_1+2x_2+2x_3-x_6+x_7 &= 1, \\\\\n",
    "x_1,x_2,x_3,x_4,x_5,x_6,x_7 &\\geq 0\n",
    "\\end{aligned}$$\n",
    "\n",
    "We can now proceed to solve the problem as before."
   ]
  },
  {
   "cell_type": "code",
   "execution_count": 3,
   "metadata": {
    "collapsed": false
   },
   "outputs": [
    {
     "name": "stdout",
     "output_type": "stream",
     "text": [
      "Step 1\n",
      "[[ 0.5  3.   0.   1.   0.  -0.5  0.5  5.5]\n",
      " [ 3.  -3.   0.   0.   1.   1.  -1.   1. ]\n",
      " [-0.5  1.   1.   0.   0.  -0.5  0.5  0.5]]\n",
      "Step 2\n",
      "[[ 0.          3.5         0.          1.         -0.16666667 -0.66666667\n",
      "   0.66666667  5.33333333]\n",
      " [ 1.         -1.          0.          0.          0.33333333  0.33333333\n",
      "  -0.33333333  0.33333333]\n",
      " [ 0.          0.5         1.          0.          0.16666667 -0.33333333\n",
      "   0.33333333  0.66666667]]\n",
      "Step 3\n",
      "[[ 0.          0.         -7.          1.         -1.33333333  1.66666667\n",
      "  -1.66666667  0.66666667]\n",
      " [ 1.          0.          2.          0.          0.66666667 -0.33333333\n",
      "   0.33333333  1.66666667]\n",
      " [ 0.          1.          2.          0.          0.33333333 -0.66666667\n",
      "   0.66666667  1.33333333]]\n",
      "Step 4\n",
      "[[ 0.   0.  -4.2  0.6 -0.8  1.  -1.   0.4]\n",
      " [ 1.   0.   0.6  0.2  0.4  0.   0.   1.8]\n",
      " [ 0.   1.  -0.8  0.4 -0.2  0.   0.   1.6]]\n",
      "Step 5\n",
      "[[  7.           0.           0.           2.           2.           1.\n",
      "   -1.          13.        ]\n",
      " [  1.66666667   0.           1.           0.33333333   0.66666667   0.\n",
      "    0.           3.        ]\n",
      " [  1.33333333   1.           0.           0.66666667   0.33333333   0.\n",
      "    0.           4.        ]]\n",
      "The final basis is:\n",
      "[5 2 1]\n",
      "Solution\n",
      "x1=0.00,\n",
      "x2=4.00,\n",
      "x3=3.00,\n",
      "z=19.0000\n"
     ]
    }
   ],
   "source": [
    "def question2():\n",
    "    # Big M Method\n",
    "    # Define the tableau:\n",
    "    tableau = np.array([\n",
    "        [1.0,2,-1,1,0,0,0,5],\n",
    "        [2,-1,2,0,1,0,0,2],\n",
    "        [-1,2,2,0,0,-1,1,1]\n",
    "    ])\n",
    "    # Define the objective function: We will associate a very large\n",
    "    # penalty with the artificial variables:\n",
    "    of = np.array([2,4,1,0,-10000,0,-10000])\n",
    "    # Define the initial basis:\n",
    "    basis = np.array([3,4,6])\n",
    "    # Run the simplex algorithm:\n",
    "    basis,tableau = simplex(of,basis,tableau)\n",
    "    # Get the optimal solution:\n",
    "    optimal_solution,optimal_value = get_solution(of,basis,tableau)\n",
    "    # Print the final tableau:\n",
    "    print('The final basis is:')\n",
    "    print(basis)\n",
    "    # Print the results:\n",
    "    print('Solution\\nx1=%0.2f,\\nx2=%0.2f,\\nx3=%0.2f,\\nz=%0.4f' \n",
    "        % (optimal_solution[0],optimal_solution[1],\n",
    "            optimal_solution[2],optimal_value))\n",
    "question2()"
   ]
  },
  {
   "cell_type": "markdown",
   "metadata": {},
   "source": [
    "The optimal solution is $x_1=0,x_2=4,x_3=3$ and the optimal value is $z=19$."
   ]
  },
  {
   "cell_type": "markdown",
   "metadata": {},
   "source": [
    "## Question 3\n",
    "\n",
    "Solve the following L.P.P. by Two phase method.\n",
    "\n",
    "Maximize $z=2x_1+x_2+x_3$ subject to\n",
    "$$\\begin{aligned}\n",
    "4x_1+6x_2+3x_3 &\\leq 8, \\\\\n",
    "3x_1-6x_2-4x_3 &\\leq 1, \\\\\n",
    "2x_1+3x_2-5x_3 &\\geq 4, \\\\\n",
    "x_1,x_2,x_3 &\\geq 0\n",
    "\\end{aligned}$$\n",
    "\n",
    "### Solution\n",
    "\n",
    "In phase I, we will solve the following problem\n",
    "\n",
    "Maximize $z = -x_7$ subject to\n",
    "\n",
    "$$\n",
    "\\begin{aligned}\n",
    "4x_1+6x_2+3x_3+x_4 &= 8, \\\\\n",
    "3x_1-6x_2-4x_3+x_5 &= 1, \\\\\n",
    "2x_1+3x_2-5x_3-x_6+x_7 &= 4, \\\\\n",
    "x_1,x_2,x_3,x_4,x_5,x_6,x_7 &\\geq 0\n",
    "\\end{aligned}\n",
    "$$\n",
    "\n",
    "where $x_4,x_5$ are slack variables, $x_6$ is a surplus variable and $x_7$ is an artificial variable."
   ]
  },
  {
   "cell_type": "code",
   "execution_count": 4,
   "metadata": {
    "collapsed": false
   },
   "outputs": [
    {
     "name": "stdout",
     "output_type": "stream",
     "text": [
      "Phase I:\n",
      "Step 1\n",
      "[[  0.           0.          13.           1.           0.           2.\n",
      "   -2.           0.        ]\n",
      " [  7.           0.         -14.           0.           1.          -2.\n",
      "    2.           9.        ]\n",
      " [  0.66666667   1.          -1.66666667   0.           0.          -0.33333333\n",
      "    0.33333333   1.33333333]]\n",
      "Phase II:\n",
      "Step 1\n",
      "[[ 0.          0.          1.          0.07692308  0.          0.15384615\n",
      "   0.        ]\n",
      " [ 7.          0.          0.          1.07692308  1.          0.15384615\n",
      "   9.        ]\n",
      " [ 0.66666667  1.          0.          0.12820513  0.         -0.07692308\n",
      "   1.33333333]]\n",
      "Step 2\n",
      "[[ 0.          0.          1.          0.07692308  0.          0.15384615\n",
      "   0.        ]\n",
      " [ 1.          0.          0.          0.15384615  0.14285714  0.02197802\n",
      "   1.28571429]\n",
      " [ 0.          1.          0.          0.02564103 -0.0952381  -0.09157509\n",
      "   0.47619048]]\n",
      "The final basis is:\n",
      "[2 0 1]\n",
      "Solution\n",
      "x1=1.29,\n",
      "x2=0.48,\n",
      "x3=0.00,\n",
      "z=3.0476\n"
     ]
    }
   ],
   "source": [
    "def question3():\n",
    "    # 2 Phase Method\n",
    "    # Define the tableau:\n",
    "    tableau = np.array([\n",
    "        [4.0,6,3,1,0,0,0,8],\n",
    "        [3,-6,-4,0,1,0,0,1],\n",
    "        [2,3,-5,0,0,-1,1,4]\n",
    "    ])\n",
    "    # Phase I:\n",
    "    # Define the initial basis and the objective function:\n",
    "    basis = np.array([3,4,6])\n",
    "    of = np.array([0,0,0,0,0,0,-1])\n",
    "    # Run the simplex algorithm:\n",
    "    print('Phase I:')\n",
    "    basis, tableau = simplex(of,basis,tableau)\n",
    "    # Phase II:\n",
    "    # Define new objective function:\n",
    "    of = np.array([2,1,1,0,0,0])\n",
    "    # Remove the artificial column:\n",
    "    tableau = np.c_[tableau[:,0:6],tableau[:,7]]\n",
    "    # Run simplex algorithm again:\n",
    "    print('Phase II:')\n",
    "    basis, tableau = simplex(of,basis,tableau)\n",
    "    # Get the optimal solution:\n",
    "    optimal_solution,optimal_value = get_solution(of,basis,tableau)\n",
    "    # Print the final tableau:\n",
    "    print('The final basis is:')\n",
    "    print(basis)\n",
    "    # Print the results:\n",
    "    print('Solution\\nx1=%0.2f,\\nx2=%0.2f,\\nx3=%0.2f,\\nz=%0.4f' \n",
    "        % (optimal_solution[0],optimal_solution[1],\n",
    "            optimal_solution[2],optimal_value))\n",
    "question3()"
   ]
  },
  {
   "cell_type": "markdown",
   "metadata": {},
   "source": [
    "The optimal solution is $x_1=1.29, x_2=0.48,x_3=0$ and the optimal value is $z=3.0476$."
   ]
  },
  {
   "cell_type": "markdown",
   "metadata": {},
   "source": [
    "## Question 4\n",
    "\n",
    "By solving the dual of the following L.P.P., find the minimum value of $z$.\n",
    "\n",
    "Minimize $z = 3x_1-2x_2+4x_3$ subject to\n",
    "$$\\begin{aligned}\n",
    "3x_1+5x_2+4x_3 &\\geq 7, \\\\\n",
    "6x_1+x_2+x_3 &\\geq 4, \\\\\n",
    "7x_1-2x_2-x_3 &\\leq 10, \\\\\n",
    "4x_1+7x_2-2x_3 &\\geq 2, \\\\\n",
    "x_1-2x_2 + 5x_3 &\\geq 4, \\\\\n",
    "x_1,x_2,x_3 &\\geq 0\n",
    "\\end{aligned}$$\n",
    "\n",
    "### Solution\n",
    "\n",
    "The dual of the given problem is\n",
    "\n",
    "Maximize $z=7y_1+4y_2-10y_3+2y_4+3y_5$ subject to\n",
    "$$\\begin{aligned}\n",
    "3y_1+6y_2-7y_3+4y_4+y_5 &\\leq 3, \\\\\n",
    "-5y_1-y_2-2y_3-7y_4+2y_5 &\\geq 2, \\\\\n",
    "4y_1+y_2+y_3-2y_4+5y_5 &\\leq 4, \\\\\n",
    "y_1,y_2,y_3,y_5,y_5 &\\geq 0\n",
    "\\end{aligned}$$\n",
    "\n",
    "We will use Big-M method to solve this problem. In the standard form,\n",
    "\n",
    "Maximize $z=7y_1+4y_2-10y_3+2y_4+3y_5+0y_6+0y_7-My_8+0y_9$ subject to\n",
    "\n",
    "$$\\begin{aligned}\n",
    "3y_1+6y_2-7y_3+4y_4+y_5 +y_6&= 3, \\\\\n",
    "-5y_1-y_2-2y_3-7y_4+2y_5 -y_7+y_8&= 2, \\\\\n",
    "4y_1+y_2+y_3-2y_4+5y_5 +y_9&= 4, \\\\\n",
    "y_1,y_2,y_3,y_4,y_5,y_6,y_7,y_8,y_9 &\\geq 0\n",
    "\\end{aligned}$$\n",
    "\n",
    "Here $y_6,y_9$ are slack variables, $y_7$ is a surplus variable and $y_8$ is an artificial variable."
   ]
  },
  {
   "cell_type": "code",
   "execution_count": 5,
   "metadata": {
    "collapsed": false
   },
   "outputs": [
    {
     "name": "stdout",
     "output_type": "stream",
     "text": [
      "Step 1\n",
      "[[ 2.2  5.8 -7.2  4.4  0.   1.   0.   0.  -0.2  2.2]\n",
      " [-6.6 -1.4 -2.4 -6.2  0.   0.  -1.   1.  -0.4  0.4]\n",
      " [ 0.8  0.2  0.2 -0.4  1.   0.   0.   0.   0.2  0.8]]\n",
      "The final basis is:\n",
      "[5 7 4]\n",
      "The dual problem has no feasible solution.\n"
     ]
    }
   ],
   "source": [
    "def question4():\n",
    "    # Minimum value by solving the dual of the given problem:\n",
    "    # The tableau of the dual problem is:\n",
    "    tableau = np.array([\n",
    "        [3.0,6,-7,4,1,1,0,0,0,3],\n",
    "        [-5,-1,-2,-7,2,0,-1,1,0,2],\n",
    "        [4,1,1,-2,5,0,0,0,1,4]\n",
    "    ])\n",
    "    # The objective function of the dual problem is:\n",
    "    of = np.array([7,4,-10,2,3,0,0,-10000,0])\n",
    "    basis = np.array([5,7,8])\n",
    "    # Solve the problem:\n",
    "    basis, tableau = simplex(of,basis,tableau)\n",
    "    optimal_solution, optimal_value = get_solution(of,basis,tableau)\n",
    "    # Check if the artificial variable is still remaining in basis:\n",
    "    print('The final basis is:')\n",
    "    print(basis)\n",
    "    if np.any(basis == 7):\n",
    "        print('The dual problem has no feasible solution.')\n",
    "    else:\n",
    "        print('z=%0.2f' % optimal_value)\n",
    "\n",
    "question4()"
   ]
  },
  {
   "cell_type": "markdown",
   "metadata": {},
   "source": [
    "Since the dual problem has no feasible solution, the original problem has unbounded optimal solution."
   ]
  }
 ],
 "metadata": {
  "anaconda-cloud": {},
  "kernelspec": {
   "display_name": "Python [conda root]",
   "language": "python",
   "name": "conda-root-py"
  },
  "language_info": {
   "codemirror_mode": {
    "name": "ipython",
    "version": 3
   },
   "file_extension": ".py",
   "mimetype": "text/x-python",
   "name": "python",
   "nbconvert_exporter": "python",
   "pygments_lexer": "ipython3",
   "version": "3.5.2"
  }
 },
 "nbformat": 4,
 "nbformat_minor": 1
}
